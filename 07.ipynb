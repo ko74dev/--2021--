{
 "cells": [
  {
   "cell_type": "markdown",
   "id": "graduate-yesterday",
   "metadata": {},
   "source": [
    "<a href=\"https://colab.research.google.com/github.com/ko74dev/EGE-2021-Informatika/blob/main/07.ipynb\" target=\"_parent\"><img src=\"https://colab.research.google.com/assets/colab-badge.svg\" alt=\"Open In Colab\"/></a>",
    "## Задание №7\n",
    "Для хранения произвольного растрового изображения размером 128×320 пикселей отведено 20 Кбайт памяти без учёта размера заголовка файла. Для кодирования цвета каждого пикселя используется одинаковое количество бит, коды пикселей записываются в файл один за другим без промежутков. Какое максимальное количество цветов можно использовать в изображении?\n",
    "\n",
    "Дано:|Решение:|\n",
    "-|-\n",
    "k = 128×320 = 10*2<sup>12</sup> бит | **I = k * i и N = 2<sup>i</sup>**\n",
    "I = 20 Кбайт = 10*2<sup>14</sup> бит |  $ i = \\frac{I}{k} $\n",
    "Найти: | $$ N = 2^{ \\frac{I}{k} } = 2^{ \\frac{10 \\cdot 2^{14} }{ 10 \\cdot 2^{12} } } = 16 $$\n",
    "N - ? |\n",
    "\n",
    "Ответ: 16"
   ]
  },
  {
   "cell_type": "code",
   "execution_count": 1,
   "id": "thirty-receipt",
   "metadata": {},
   "outputs": [
    {
     "data": {
      "text/plain": [
       "16"
      ]
     },
     "execution_count": 1,
     "metadata": {},
     "output_type": "execute_result"
    }
   ],
   "source": [
    "2 ** ( (10*2**14) // (10*2**12) )"
   ]
  },
  {
   "cell_type": "code",
   "execution_count": null,
   "id": "automatic-identification",
   "metadata": {},
   "outputs": [],
   "source": []
  }
 ],
 "metadata": {
  "kernelspec": {
   "display_name": "Python 3",
   "language": "python",
   "name": "python3"
  },
  "language_info": {
   "codemirror_mode": {
    "name": "ipython",
    "version": 3
   },
   "file_extension": ".py",
   "mimetype": "text/x-python",
   "name": "python",
   "nbconvert_exporter": "python",
   "pygments_lexer": "ipython3",
   "version": "3.8.6"
  }
 },
 "nbformat": 4,
 "nbformat_minor": 5
}
