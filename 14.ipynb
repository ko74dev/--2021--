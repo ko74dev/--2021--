{
 "cells": [
  {
   "cell_type": "markdown",
   "id": "rational-japanese",
   "metadata": {},
   "source": [
    "## Задание №14 \n",
    "Значение арифметического выражения: $49^7 + 7^{21} - 7$ – записали в системе счисления с основанием 7. Сколько цифр 6 содержится в этой записи?\n",
    "### Решение\n",
    "```\n",
    "n = 49**7 + 7**21 - 7\n",
    "k = 0\n",
    "while n:\n",
    "    k += n%7==6\n",
    "    n //= 7\n",
    "print(k)\n",
    "```\n",
    "### Ответ: 13"
   ]
  },
  {
   "cell_type": "code",
   "execution_count": 1,
   "id": "heavy-boxing",
   "metadata": {},
   "outputs": [
    {
     "data": {
      "text/plain": [
       "13"
      ]
     },
     "execution_count": 1,
     "metadata": {},
     "output_type": "execute_result"
    }
   ],
   "source": [
    "n = 49**7 + 7**21 - 7\n",
    "k = 0\n",
    "while n:\n",
    "    k += n%7==6\n",
    "    n //= 7\n",
    "k"
   ]
  },
  {
   "cell_type": "code",
   "execution_count": null,
   "id": "colonial-advance",
   "metadata": {},
   "outputs": [],
   "source": []
  }
 ],
 "metadata": {
  "kernelspec": {
   "display_name": "Python 3",
   "language": "python",
   "name": "python3"
  },
  "language_info": {
   "codemirror_mode": {
    "name": "ipython",
    "version": 3
   },
   "file_extension": ".py",
   "mimetype": "text/x-python",
   "name": "python",
   "nbconvert_exporter": "python",
   "pygments_lexer": "ipython3",
   "version": "3.8.6"
  }
 },
 "nbformat": 4,
 "nbformat_minor": 5
}
