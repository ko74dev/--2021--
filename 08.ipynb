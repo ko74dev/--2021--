{
 "cells": [
  {
   "cell_type": "markdown",
   "id": "initial-geology",
   "metadata": {},
   "source": [
    "## Задание №8 (Демо-2021)\n",
    "Игорь составляет таблицу кодовых слов для передачи сообщений, каждому сообщению соответствует своё кодовое слово. В качестве кодовых слов Игорь использует **трёхбуквенные слова**, в которых могут быть только буквы Ш, К, О, Л, А, причём буква К появляется ровно 1 раз. Каждая из других допустимых букв может встречаться в кодовом слове любое количество раз или не встречаться совсем. Сколько различных кодовых слов может использовать Игорь?\n",
    "### Решение:\n",
    "Буква К появляется ровно 1 раз в каждой из **3**-х позиций слова.\n",
    "\n",
    "Остальные 4-е буквы, в оставшихся 2-х позициях, встречаются любое количество раз или не встречаться совсем. Т.е. по 4<sup>2</sup> комбинаций\n",
    "\n",
    "И так - 3 раза: 3*4<sup>2</sup>\n",
    "### Ответ: "
   ]
  },
  {
   "cell_type": "code",
   "execution_count": 1,
   "id": "secure-henry",
   "metadata": {},
   "outputs": [
    {
     "data": {
      "text/plain": [
       "48"
      ]
     },
     "execution_count": 1,
     "metadata": {},
     "output_type": "execute_result"
    }
   ],
   "source": [
    "3 * 4**2"
   ]
  },
  {
   "cell_type": "code",
   "execution_count": null,
   "id": "deluxe-direction",
   "metadata": {},
   "outputs": [],
   "source": []
  }
 ],
 "metadata": {
  "kernelspec": {
   "display_name": "Python 3",
   "language": "python",
   "name": "python3"
  },
  "language_info": {
   "codemirror_mode": {
    "name": "ipython",
    "version": 3
   },
   "file_extension": ".py",
   "mimetype": "text/x-python",
   "name": "python",
   "nbconvert_exporter": "python",
   "pygments_lexer": "ipython3",
   "version": "3.8.6"
  }
 },
 "nbformat": 4,
 "nbformat_minor": 5
}
