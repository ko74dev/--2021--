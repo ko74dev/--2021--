{
 "cells": [
  {
   "cell_type": "markdown",
   "id": "initial-geology",
   "metadata": {},
   "source": [
    "## Задание №11 (Демо-2021)\n",
    "При регистрации в компьютерной системе каждому объекту сопоставляется идентификатор, состоящий из 15 символов и содержащий только символы из 8-символьного набора: А, В, C, D, Е, F, G, H. В базе данных для хранения сведений о каждом объекте отведено одинаковое и минимально возможное целое число байт. При этом используют посимвольное кодирование идентификаторов, все символы кодируют одинаковым и минимально возможным количеством бит. Кроме собственно идентификатора, для каждого объекта в системе хранятся дополнительные сведения, для чего отведено 24 байта на один объект.\\\n",
    "Определите объём памяти (в байтах), необходимый для хранения сведений о 20 объектах. В ответе запишите только целое число – количество байт.\n",
    "### Решение:\n",
    "Дано:|Решение:\n",
    "-|-\n",
    "k<sub>идентификаторов</sub> = 15 | \[ N_{идентификаторов}= 2^{i_{идентификаторов}}$$ $$8=2^{i_{идентификаторов}}\\rightarrow i_{идентификаторов}=3\\; бит \]\n",
    "N<sub>идентификаторов</sub> = 8 | $$I_{идентификаторов} = k_{идентификаторов}\\cdot i_{идентификаторов}$$\n",
    "I<sub>доп</sub> = 24 байта = 3*64 бит| $$I_{идентификаторов} = 15\\cdot 3\\; бит $$ \n",
    "k<sub>объектов</sub> = 20| $$I_{объектa}=I_{идентификаторов}+I_{доп}\\rightarrow$$ $$I_{объектa}=15\\cdot 3+3\\cdot 64 = 3\\cdot79\\; бит = 30\\; байт$$\n",
    "Найти:| $$i_{объектов}=I_{объекта}$$ \n",
    "I<sub>объектов</sub> - ?| $$I_{объектов} = k_{объектов}\\cdot I_{объекта} = 20\\cdot 30 = 600\\; байт$$\n",
    "\n",
    "### Ответ:  600 байт"
   ]
  },
  {
   "cell_type": "code",
   "execution_count": 1,
   "id": "deluxe-direction",
   "metadata": {},
   "outputs": [
    {
     "data": {
      "text/plain": [
       "79"
      ]
     },
     "execution_count": 1,
     "metadata": {},
     "output_type": "execute_result"
    }
   ],
   "source": [
    "15+64"
   ]
  },
  {
   "cell_type": "code",
   "execution_count": 4,
   "id": "divine-merit",
   "metadata": {},
   "outputs": [
    {
     "data": {
      "text/plain": [
       "10"
      ]
     },
     "execution_count": 4,
     "metadata": {},
     "output_type": "execute_result"
    }
   ],
   "source": [
    "(79+7)//8"
   ]
  },
  {
   "cell_type": "code",
   "execution_count": 3,
   "id": "instructional-citation",
   "metadata": {},
   "outputs": [
    {
     "data": {
      "text/plain": [
       "600"
      ]
     },
     "execution_count": 3,
     "metadata": {},
     "output_type": "execute_result"
    }
   ],
   "source": [
    "20*30"
   ]
  },
  {
   "cell_type": "code",
   "execution_count": null,
   "id": "roman-thread",
   "metadata": {},
   "outputs": [],
   "source": []
  }
 ],
 "metadata": {
  "kernelspec": {
   "display_name": "Python 3",
   "language": "python",
   "name": "python3"
  },
  "language_info": {
   "codemirror_mode": {
    "name": "ipython",
    "version": 3
   },
   "file_extension": ".py",
   "mimetype": "text/x-python",
   "name": "python",
   "nbconvert_exporter": "python",
   "pygments_lexer": "ipython3",
   "version": "3.8.6"
  }
 },
 "nbformat": 4,
 "nbformat_minor": 5
}
